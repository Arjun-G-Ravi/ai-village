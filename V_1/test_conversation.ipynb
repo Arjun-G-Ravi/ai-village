{
 "cells": [
  {
   "cell_type": "code",
   "execution_count": 4,
   "metadata": {},
   "outputs": [
    {
     "name": "stdout",
     "output_type": "stream",
     "text": [
      "Extracted number: 0.1\n",
      "['0.1']\n"
     ]
    }
   ],
   "source": [
    "import re\n",
    "\n",
    "# Sample string\n",
    "text = \"The number is 0.1 and it is important.\"\n",
    "\n",
    "# Regular expression pattern to match a floating-point number between 0 and 1\n",
    "pattern = r'\\b0\\.\\d+\\b'\n",
    "\n",
    "# Search for the pattern in the text\n",
    "matches = re.findall(pattern, text)\n",
    "\n",
    "# If matches are found, extract the numbers\n",
    "if matches:\n",
    "    for number in matches:\n",
    "        print(\"Extracted number:\", number)\n",
    "else:\n",
    "    print(\"No floating-point number between 0 and 1 found in the text.\")\n",
    "print(matches)"
   ]
  },
  {
   "cell_type": "code",
   "execution_count": 11,
   "metadata": {},
   "outputs": [
    {
     "data": {
      "text/plain": [
       "0.2"
      ]
     },
     "execution_count": 11,
     "metadata": {},
     "output_type": "execute_result"
    }
   ],
   "source": [
    "import random\n",
    "round(random.randint(1,10)*0.1, 1)"
   ]
  },
  {
   "cell_type": "code",
   "execution_count": 1,
   "metadata": {},
   "outputs": [
    {
     "name": "stdout",
     "output_type": "stream",
     "text": [
      "COW <CONV BEGINS>\n",
      "cow\n",
      "COW Tom: Hi Joy, I've been reading about cows lately, and I'm fascinated by their digestive system.\n",
      "cow\n",
      "COW Joy: Oh, that's interesting! I'm not really into cows, but I'm always happy to chat.\n",
      "cow\n",
      "COW Tom: They have this amazing ability to ferment food in their stomachs, and it's all thanks to these tiny organisms called bacteria.\n",
      "cow\n",
      "COW Joy: Wow, that sounds complex. I'm more of a people person, so I don't know much about cows.\n",
      "cow\n",
      "COW <CONV ENDS>\n",
      "cow\n",
      "COW \n",
      "cow\n",
      "COW SUMMARY: Tom and Joy had a brief conversation about cows and their digestive system. Joy showed little interest, but Tom remained enthusiastic about the topic.\n",
      "cow\n",
      "COW \n",
      "cow\n",
      "COW RELATIONSHIP: 0.4\n",
      "cow\n"
     ]
    }
   ],
   "source": [
    "conv_list = ['<CONV BEGINS>', \"Tom: Hi Joy, I've been reading about cows lately, and I'm fascinated by their digestive system.\", \"Joy: Oh, that's interesting! I'm not really into cows, but I'm always happy to chat.\", \"Tom: They have this amazing ability to ferment food in their stomachs, and it's all thanks to these tiny organisms called bacteria.\", \"Joy: Wow, that sounds complex. I'm more of a people person, so I don't know much about cows.\", '<CONV ENDS>', '', 'SUMMARY: Tom and Joy had a brief conversation about cows and their digestive system. Joy showed little interest, but Tom remained enthusiastic about the topic.', '', 'RELATIONSHIP: 0.4']\n",
    "for conversation in conv_list:\n",
    "            print('COW', conversation)\n",
    "            if 'SUMMARY:' or 'SUMMARY :' in conversation:\n",
    "                print('cow')"
   ]
  }
 ],
 "metadata": {
  "kernelspec": {
   "display_name": "AI_ENV",
   "language": "python",
   "name": "python3"
  },
  "language_info": {
   "codemirror_mode": {
    "name": "ipython",
    "version": 3
   },
   "file_extension": ".py",
   "mimetype": "text/x-python",
   "name": "python",
   "nbconvert_exporter": "python",
   "pygments_lexer": "ipython3",
   "version": "3.10.12"
  }
 },
 "nbformat": 4,
 "nbformat_minor": 2
}
