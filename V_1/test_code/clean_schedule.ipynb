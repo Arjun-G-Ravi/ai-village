{
 "cells": [
  {
   "cell_type": "code",
   "execution_count": 1,
   "metadata": {},
   "outputs": [],
   "source": [
    "actions = ['WALK', 'SLEEP', 'WAKE UP', 'EAT', 'TALK', 'GO TO WORK', 'GO TO MARKET', 'DO SHOPPING', 'COME BACK HOME', 'READ','MEET', 'FARM', 'COOK', 'SING', 'DANCE', 'PLAY', 'EXCERCISE', 'PRAY', 'BATH', 'PLAY VIDEO GAMES', 'WATCH TV']"
   ]
  },
  {
   "cell_type": "code",
   "execution_count": 10,
   "metadata": {},
   "outputs": [
    {
     "name": "stdout",
     "output_type": "stream",
     "text": [
      "WRONG ACTIONS: LUNCH BREAK\n",
      "WRONG ACTIONS: FINISH WORK\n",
      "WRONG ACTIONS: DINNER\n"
     ]
    },
    {
     "data": {
      "text/plain": [
       "{'6:00': 'WAKE UP',\n",
       " '7:00': 'DANCE',\n",
       " '8:00': 'SING',\n",
       " '9:00': 'BATH',\n",
       " '10:00': 'COOK',\n",
       " '11:00': 'PLAY',\n",
       " '12:00': 'EAT',\n",
       " '13:00': 'READ',\n",
       " '14:00': 'GO TO WORK',\n",
       " '14:30': 'GO TO MARKET',\n",
       " '16:00': 'COME BACK HOME',\n",
       " '16:30': 'DO SHOPPING',\n",
       " '17:30': 'COME BACK HOME',\n",
       " '18:00': 'EAT',\n",
       " '19:00': 'EAT',\n",
       " '20:00': 'WATCH TV',\n",
       " '21:00': 'SLEEP'}"
      ]
     },
     "execution_count": 10,
     "metadata": {},
     "output_type": "execute_result"
    }
   ],
   "source": [
    "def clean_wrong_schedule(schedule):\n",
    "        to_remove = []\n",
    "        for t,a in schedule.items():\n",
    "                # print(t,a)\n",
    "                if a not in actions:\n",
    "                        print('WRONG ACTIONS:', a)\n",
    "                        if 'LUNCH' in a or 'FOOD' in a or 'EAT' in a or 'BREAKFAST' in a or 'DINNER' in a:\n",
    "                                schedule[t] = 'EAT'\n",
    "                        elif 'SHOWER' in a:\n",
    "                                schedule[t] = 'BATH'\n",
    "                        else:\n",
    "                                to_remove.append(t)\n",
    "        for i in to_remove:\n",
    "                schedule.pop(i)\n",
    "                \n",
    "        return schedule\n",
    "    \n",
    "sc = {'6:00': 'WAKE UP', '7:00': 'DANCE', '8:00': 'SING', '9:00': 'BATH', '10:00': 'COOK', '11:00': 'PLAY', '12:00': 'LUNCH BREAK', '13:00': 'READ', '14:00': 'GO TO WORK', '14:30': 'GO TO MARKET', '15:00': 'FINISH WORK', '16:00': 'COME BACK HOME', '16:30': 'DO SHOPPING', '17:30': 'COME BACK HOME', '18:00': 'DINNER', '19:00': 'EAT', '20:00': 'WATCH TV', '21:00': 'SLEEP'}\n",
    "sc = clean_wrong_schedule(sc)\n",
    "sc\n"
   ]
  },
  {
   "cell_type": "code",
   "execution_count": 3,
   "metadata": {},
   "outputs": [
    {
     "name": "stdout",
     "output_type": "stream",
     "text": [
      "['WALK', 'SLEEP', 'WAKE UP', 'EAT', 'TALK', 'GO TO WORK', 'GO TO MARKET', 'DO SHOPPING', 'COME BACK HOME', 'READ', 'FARM', 'COOK', 'SING', 'DANCE', 'PLAY', 'EXCERCISE', 'PRAY', 'BATH', 'PLAY VIDEO GAMES', 'WATCH TV']\n"
     ]
    }
   ],
   "source": [
    "a = '''WALK\n",
    "SLEEP\n",
    "WAKE UP\n",
    "EAT\n",
    "TALK\n",
    "GO TO WORK\n",
    "GO TO MARKET\n",
    "DO SHOPPING\n",
    "COME BACK HOME\n",
    "READ\n",
    "FARM\n",
    "COOK\n",
    "SING\n",
    "DANCE\n",
    "PLAY\n",
    "EXCERCISE\n",
    "PRAY\n",
    "BATH\n",
    "PLAY VIDEO GAMES\n",
    "WATCH TV'''\n",
    "\n",
    "print(a.split('\\n'))"
   ]
  }
 ],
 "metadata": {
  "kernelspec": {
   "display_name": "AI_ENV",
   "language": "python",
   "name": "python3"
  },
  "language_info": {
   "codemirror_mode": {
    "name": "ipython",
    "version": 3
   },
   "file_extension": ".py",
   "mimetype": "text/x-python",
   "name": "python",
   "nbconvert_exporter": "python",
   "pygments_lexer": "ipython3",
   "version": "3.10.12"
  }
 },
 "nbformat": 4,
 "nbformat_minor": 2
}
